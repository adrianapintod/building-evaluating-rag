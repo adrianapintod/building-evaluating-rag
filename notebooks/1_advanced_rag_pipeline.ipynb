{
 "cells": [
  {
   "cell_type": "code",
   "execution_count": 1,
   "metadata": {},
   "outputs": [],
   "source": [
    "import os\n",
    "import sys\n",
    "\n",
    "# Allowing Jupyter to load modules and clases from the file system\n",
    "module_path = os.path.abspath(os.path.join(\"../src\"))\n",
    "if module_path not in sys.path:\n",
    "    sys.path.append(module_path)"
   ]
  },
  {
   "cell_type": "markdown",
   "metadata": {},
   "source": [
    "## Advance RAG Pipeline"
   ]
  },
  {
   "cell_type": "code",
   "execution_count": 2,
   "metadata": {},
   "outputs": [],
   "source": [
    "# import utils\n",
    "import os\n",
    "# openai.api_key = utils.get_openai_api_key()"
   ]
  },
  {
   "cell_type": "code",
   "execution_count": 3,
   "metadata": {},
   "outputs": [],
   "source": [
    "from llama_index.core import SimpleDirectoryReader\n",
    "\n",
    "documents = SimpleDirectoryReader(\n",
    "    input_files=[\"../data/eBook-How-to-Build-a-Career-in-AI.pdf\"]\n",
    ").load_data()"
   ]
  },
  {
   "cell_type": "code",
   "execution_count": 4,
   "metadata": {},
   "outputs": [
    {
     "name": "stdout",
     "output_type": "stream",
     "text": [
      "<class 'list'> \n",
      "\n",
      "41 \n",
      "\n",
      "<class 'llama_index.core.schema.Document'>\n",
      "Doc ID: 05b94117-e0a9-48b9-9d12-c6833e5fa1ad\n",
      "Text: PAGE 1Founder, DeepLearning.AICollected Insights from Andrew Ng\n",
      "How to  Build Your Career in AIA Simple Guide\n"
     ]
    }
   ],
   "source": [
    "print(type(documents), \"\\n\")\n",
    "print(len(documents), \"\\n\")\n",
    "print(type(documents[0]))\n",
    "print(documents[0])"
   ]
  },
  {
   "cell_type": "markdown",
   "metadata": {},
   "source": [
    "### Basic RAG Pipeline"
   ]
  },
  {
   "cell_type": "code",
   "execution_count": 5,
   "metadata": {},
   "outputs": [],
   "source": [
    "from llama_index.core import Document\n",
    "\n",
    "# Join all texts into a single document\n",
    "document = Document(text=\"\\n\\n\".join([doc.text for doc in documents]))\n",
    "# document = documents[0]\n",
    "# document"
   ]
  },
  {
   "cell_type": "code",
   "execution_count": 6,
   "metadata": {},
   "outputs": [],
   "source": [
    "from llama_index.core import VectorStoreIndex\n",
    "from llama_index.embeddings.huggingface import HuggingFaceEmbedding\n",
    "from llama_index.llms.azure_openai import AzureOpenAI\n",
    "\n",
    "llm = AzureOpenAI(\n",
    "    model=\"gpt-4o\",\n",
    "    api_key=os.getenv(\"AZURE_OPENAI_API_KEY\"),\n",
    "    azure_endpoint=os.getenv(\"AZURE_OPENAI_API_ENDPOINT\"),\n",
    "    api_version=os.getenv(\"AZURE_OPENAI_API_VERSION\"),\n",
    "    azure_deployment=os.getenv(\"AZURE_OPENAI_API_LLM_DEPLOYMENT_NAME\"),\n",
    "    temperature=0.1,\n",
    ")\n",
    "\n",
    "# from llama_index.llms.ollama import Ollama\n",
    "# llm = Ollama(model=\"llama3.1:latest\", request_timeout=300.0)\n",
    "\n",
    "embeddings = HuggingFaceEmbedding(model_name=\"BAAI/bge-small-en-v1.5\")\n",
    "\n",
    "# Indexing the documents\n",
    "index = VectorStoreIndex.from_documents([document], embed_model=embeddings)"
   ]
  },
  {
   "cell_type": "code",
   "execution_count": 7,
   "metadata": {},
   "outputs": [],
   "source": [
    "query_engine = index.as_query_engine(llm=llm)"
   ]
  },
  {
   "cell_type": "code",
   "execution_count": 8,
   "metadata": {},
   "outputs": [
    {
     "name": "stdout",
     "output_type": "stream",
     "text": [
      "To build your experience through projects, consider these steps:\n",
      "\n",
      "1. **Join Existing Projects**: Collaborate with others who have ongoing projects to gain experience and insights.\n",
      "\n",
      "2. **Engage in Continuous Learning**: Read, take courses, and talk to domain experts to generate new ideas.\n",
      "\n",
      "3. **Focus on Application Areas**: Explore unique applications of technology in areas that interest you or your organization.\n",
      "\n",
      "4. **Develop a Side Hustle**: Work on fun projects outside your main job to stimulate creativity and build skills.\n",
      "\n",
      "5. **Evaluate Project Potential**: Choose projects that challenge you technically and have the potential to be stepping stones to larger endeavors.\n",
      "\n",
      "6. **Build a Portfolio**: Start with small projects and gradually take on more complex ones to demonstrate skill progression.\n",
      "\n",
      "7. **Communicate Effectively**: Clearly explain your projects to gain support and resources for future initiatives.\n"
     ]
    }
   ],
   "source": [
    "response = query_engine.query(\n",
    "    \"What are steps to take when finding projects to build your experience?\"\n",
    ")\n",
    "print(str(response))"
   ]
  },
  {
   "cell_type": "markdown",
   "metadata": {},
   "source": [
    "### Evaluation setup using TruLens"
   ]
  },
  {
   "cell_type": "code",
   "execution_count": 9,
   "metadata": {},
   "outputs": [
    {
     "name": "stdout",
     "output_type": "stream",
     "text": [
      "What are the keys to building a career in AI?\n",
      "How can teamwork contribute to success in AI?\n",
      "What is the importance of networking in AI?\n",
      "What are some good habits to develop for a successful career?\n",
      "How can altruism be beneficial in building a career?\n",
      "What is imposter syndrome and how does it relate to AI?\n",
      "Who are some accomplished individuals who have experienced imposter syndrome?\n",
      "What is the first step to becoming good at AI?\n",
      "What are some common challenges in AI?\n",
      "Is it normal to find parts of AI challenging?\n"
     ]
    }
   ],
   "source": [
    "eval_questions = []\n",
    "with open(\"../data/eval_questions.txt\", \"r\") as file:\n",
    "    for line in file:\n",
    "        # Remove newline character and convert to integer\n",
    "        item = line.strip()\n",
    "        print(item)\n",
    "        eval_questions.append(item)"
   ]
  },
  {
   "cell_type": "code",
   "execution_count": 10,
   "metadata": {},
   "outputs": [],
   "source": [
    "new_question = \"What is the right AI job for me?\"\n",
    "eval_questions.append(new_question)"
   ]
  },
  {
   "cell_type": "code",
   "execution_count": 11,
   "metadata": {},
   "outputs": [
    {
     "name": "stdout",
     "output_type": "stream",
     "text": [
      "['What are the keys to building a career in AI?', 'How can teamwork contribute to success in AI?', 'What is the importance of networking in AI?', 'What are some good habits to develop for a successful career?', 'How can altruism be beneficial in building a career?', 'What is imposter syndrome and how does it relate to AI?', 'Who are some accomplished individuals who have experienced imposter syndrome?', 'What is the first step to becoming good at AI?', 'What are some common challenges in AI?', 'Is it normal to find parts of AI challenging?', 'What is the right AI job for me?']\n"
     ]
    }
   ],
   "source": [
    "print(eval_questions)"
   ]
  },
  {
   "cell_type": "code",
   "execution_count": 12,
   "metadata": {},
   "outputs": [
    {
     "name": "stdout",
     "output_type": "stream",
     "text": [
      "🦑 Tru initialized with db url sqlite:///default.sqlite .\n",
      "🛑 Secret keys may be written to the database. See the `database_redact_keys` option of `Tru` to prevent this.\n"
     ]
    }
   ],
   "source": [
    "from trulens_eval import Tru\n",
    "\n",
    "tru = Tru()\n",
    "\n",
    "tru.reset_database()"
   ]
  },
  {
   "cell_type": "code",
   "execution_count": 13,
   "metadata": {},
   "outputs": [
    {
     "name": "stdout",
     "output_type": "stream",
     "text": [
      "✅ In Answer Relevance, input prompt will be set to __record__.main_input or `Select.RecordInput` .\n",
      "✅ In Answer Relevance, input response will be set to __record__.main_output or `Select.RecordOutput` .\n",
      "✅ In Context Relevance, input prompt will be set to __record__.main_input or `Select.RecordInput` .\n",
      "✅ In Context Relevance, input response will be set to __record__.app.query.rets.source_nodes[:].node.text .\n",
      "✅ In Groundedness, input source will be set to __record__.app.query.rets.source_nodes[:].node.text .\n",
      "✅ In Groundedness, input statement will be set to __record__.main_output or `Select.RecordOutput` .\n"
     ]
    }
   ],
   "source": [
    "from utils import get_prebuilt_trulens_recorder\n",
    "\n",
    "tru_recorder = get_prebuilt_trulens_recorder(query_engine, app_id=\"Direct Query Engine\")\n",
    "# tru_recorder"
   ]
  },
  {
   "cell_type": "code",
   "execution_count": 14,
   "metadata": {},
   "outputs": [],
   "source": [
    "with tru_recorder as recording:\n",
    "    for question in eval_questions:\n",
    "        # print(question)\n",
    "        response = query_engine.query(question)"
   ]
  },
  {
   "cell_type": "code",
   "execution_count": 15,
   "metadata": {},
   "outputs": [],
   "source": [
    "records, feedback = tru.get_records_and_feedback(app_ids=[])"
   ]
  },
  {
   "cell_type": "code",
   "execution_count": 16,
   "metadata": {},
   "outputs": [
    {
     "data": {
      "text/html": [
       "<div>\n",
       "<style scoped>\n",
       "    .dataframe tbody tr th:only-of-type {\n",
       "        vertical-align: middle;\n",
       "    }\n",
       "\n",
       "    .dataframe tbody tr th {\n",
       "        vertical-align: top;\n",
       "    }\n",
       "\n",
       "    .dataframe thead th {\n",
       "        text-align: right;\n",
       "    }\n",
       "</style>\n",
       "<table border=\"1\" class=\"dataframe\">\n",
       "  <thead>\n",
       "    <tr style=\"text-align: right;\">\n",
       "      <th></th>\n",
       "      <th>app_id</th>\n",
       "      <th>app_json</th>\n",
       "      <th>type</th>\n",
       "      <th>record_id</th>\n",
       "      <th>input</th>\n",
       "      <th>output</th>\n",
       "      <th>tags</th>\n",
       "      <th>record_json</th>\n",
       "      <th>cost_json</th>\n",
       "      <th>perf_json</th>\n",
       "      <th>ts</th>\n",
       "      <th>latency</th>\n",
       "      <th>total_tokens</th>\n",
       "      <th>total_cost</th>\n",
       "    </tr>\n",
       "  </thead>\n",
       "  <tbody>\n",
       "    <tr>\n",
       "      <th>0</th>\n",
       "      <td>Direct Query Engine</td>\n",
       "      <td>{\"tru_class_info\": {\"name\": \"TruLlama\", \"modul...</td>\n",
       "      <td>RetrieverQueryEngine(llama_index.core.query_en...</td>\n",
       "      <td>record_hash_0b062d630bf2c1644dcbf91b831ccfeb</td>\n",
       "      <td>\"What are the keys to building a career in AI?\"</td>\n",
       "      <td>\"To build a career in AI, focus on learning fo...</td>\n",
       "      <td>-</td>\n",
       "      <td>{\"record_id\": \"record_hash_0b062d630bf2c1644dc...</td>\n",
       "      <td>{\"n_requests\": 1, \"n_successful_requests\": 1, ...</td>\n",
       "      <td>{\"start_time\": \"2024-09-20T12:21:05.113983\", \"...</td>\n",
       "      <td>2024-09-20T12:21:06.562362</td>\n",
       "      <td>1</td>\n",
       "      <td>2086</td>\n",
       "      <td>0.011140</td>\n",
       "    </tr>\n",
       "    <tr>\n",
       "      <th>1</th>\n",
       "      <td>Direct Query Engine</td>\n",
       "      <td>{\"tru_class_info\": {\"name\": \"TruLlama\", \"modul...</td>\n",
       "      <td>RetrieverQueryEngine(llama_index.core.query_en...</td>\n",
       "      <td>record_hash_369953d3471ff8167d0fe382d4381238</td>\n",
       "      <td>\"How can teamwork contribute to success in AI?\"</td>\n",
       "      <td>\"Teamwork can significantly contribute to succ...</td>\n",
       "      <td>-</td>\n",
       "      <td>{\"record_id\": \"record_hash_369953d3471ff8167d0...</td>\n",
       "      <td>{\"n_requests\": 1, \"n_successful_requests\": 1, ...</td>\n",
       "      <td>{\"start_time\": \"2024-09-20T12:21:06.787745\", \"...</td>\n",
       "      <td>2024-09-20T12:21:08.331561</td>\n",
       "      <td>1</td>\n",
       "      <td>1689</td>\n",
       "      <td>0.009105</td>\n",
       "    </tr>\n",
       "    <tr>\n",
       "      <th>2</th>\n",
       "      <td>Direct Query Engine</td>\n",
       "      <td>{\"tru_class_info\": {\"name\": \"TruLlama\", \"modul...</td>\n",
       "      <td>RetrieverQueryEngine(llama_index.core.query_en...</td>\n",
       "      <td>record_hash_af6bd4649ea4c7cd990b449c692318d4</td>\n",
       "      <td>\"What is the importance of networking in AI?\"</td>\n",
       "      <td>\"Networking in AI is important because it help...</td>\n",
       "      <td>-</td>\n",
       "      <td>{\"record_id\": \"record_hash_af6bd4649ea4c7cd990...</td>\n",
       "      <td>{\"n_requests\": 1, \"n_successful_requests\": 1, ...</td>\n",
       "      <td>{\"start_time\": \"2024-09-20T12:21:08.538854\", \"...</td>\n",
       "      <td>2024-09-20T12:21:09.810494</td>\n",
       "      <td>1</td>\n",
       "      <td>1674</td>\n",
       "      <td>0.008880</td>\n",
       "    </tr>\n",
       "    <tr>\n",
       "      <th>3</th>\n",
       "      <td>Direct Query Engine</td>\n",
       "      <td>{\"tru_class_info\": {\"name\": \"TruLlama\", \"modul...</td>\n",
       "      <td>RetrieverQueryEngine(llama_index.core.query_en...</td>\n",
       "      <td>record_hash_ebcb755d6ac347c90d7e84c7cd253d57</td>\n",
       "      <td>\"What are some good habits to develop for a su...</td>\n",
       "      <td>\"Developing good habits in areas such as eatin...</td>\n",
       "      <td>-</td>\n",
       "      <td>{\"record_id\": \"record_hash_ebcb755d6ac347c90d7...</td>\n",
       "      <td>{\"n_requests\": 1, \"n_successful_requests\": 1, ...</td>\n",
       "      <td>{\"start_time\": \"2024-09-20T12:21:10.032224\", \"...</td>\n",
       "      <td>2024-09-20T12:21:11.220913</td>\n",
       "      <td>1</td>\n",
       "      <td>1644</td>\n",
       "      <td>0.008670</td>\n",
       "    </tr>\n",
       "    <tr>\n",
       "      <th>4</th>\n",
       "      <td>Direct Query Engine</td>\n",
       "      <td>{\"tru_class_info\": {\"name\": \"TruLlama\", \"modul...</td>\n",
       "      <td>RetrieverQueryEngine(llama_index.core.query_en...</td>\n",
       "      <td>record_hash_dcd42927e4246980bb9d3e4f7e989935</td>\n",
       "      <td>\"How can altruism be beneficial in building a ...</td>\n",
       "      <td>\"Altruism can be beneficial in building a care...</td>\n",
       "      <td>-</td>\n",
       "      <td>{\"record_id\": \"record_hash_dcd42927e4246980bb9...</td>\n",
       "      <td>{\"n_requests\": 1, \"n_successful_requests\": 1, ...</td>\n",
       "      <td>{\"start_time\": \"2024-09-20T12:21:11.481890\", \"...</td>\n",
       "      <td>2024-09-20T12:21:12.854815</td>\n",
       "      <td>1</td>\n",
       "      <td>1660</td>\n",
       "      <td>0.008920</td>\n",
       "    </tr>\n",
       "  </tbody>\n",
       "</table>\n",
       "</div>"
      ],
      "text/plain": [
       "                app_id                                           app_json  \\\n",
       "0  Direct Query Engine  {\"tru_class_info\": {\"name\": \"TruLlama\", \"modul...   \n",
       "1  Direct Query Engine  {\"tru_class_info\": {\"name\": \"TruLlama\", \"modul...   \n",
       "2  Direct Query Engine  {\"tru_class_info\": {\"name\": \"TruLlama\", \"modul...   \n",
       "3  Direct Query Engine  {\"tru_class_info\": {\"name\": \"TruLlama\", \"modul...   \n",
       "4  Direct Query Engine  {\"tru_class_info\": {\"name\": \"TruLlama\", \"modul...   \n",
       "\n",
       "                                                type  \\\n",
       "0  RetrieverQueryEngine(llama_index.core.query_en...   \n",
       "1  RetrieverQueryEngine(llama_index.core.query_en...   \n",
       "2  RetrieverQueryEngine(llama_index.core.query_en...   \n",
       "3  RetrieverQueryEngine(llama_index.core.query_en...   \n",
       "4  RetrieverQueryEngine(llama_index.core.query_en...   \n",
       "\n",
       "                                      record_id  \\\n",
       "0  record_hash_0b062d630bf2c1644dcbf91b831ccfeb   \n",
       "1  record_hash_369953d3471ff8167d0fe382d4381238   \n",
       "2  record_hash_af6bd4649ea4c7cd990b449c692318d4   \n",
       "3  record_hash_ebcb755d6ac347c90d7e84c7cd253d57   \n",
       "4  record_hash_dcd42927e4246980bb9d3e4f7e989935   \n",
       "\n",
       "                                               input  \\\n",
       "0    \"What are the keys to building a career in AI?\"   \n",
       "1    \"How can teamwork contribute to success in AI?\"   \n",
       "2      \"What is the importance of networking in AI?\"   \n",
       "3  \"What are some good habits to develop for a su...   \n",
       "4  \"How can altruism be beneficial in building a ...   \n",
       "\n",
       "                                              output tags  \\\n",
       "0  \"To build a career in AI, focus on learning fo...    -   \n",
       "1  \"Teamwork can significantly contribute to succ...    -   \n",
       "2  \"Networking in AI is important because it help...    -   \n",
       "3  \"Developing good habits in areas such as eatin...    -   \n",
       "4  \"Altruism can be beneficial in building a care...    -   \n",
       "\n",
       "                                         record_json  \\\n",
       "0  {\"record_id\": \"record_hash_0b062d630bf2c1644dc...   \n",
       "1  {\"record_id\": \"record_hash_369953d3471ff8167d0...   \n",
       "2  {\"record_id\": \"record_hash_af6bd4649ea4c7cd990...   \n",
       "3  {\"record_id\": \"record_hash_ebcb755d6ac347c90d7...   \n",
       "4  {\"record_id\": \"record_hash_dcd42927e4246980bb9...   \n",
       "\n",
       "                                           cost_json  \\\n",
       "0  {\"n_requests\": 1, \"n_successful_requests\": 1, ...   \n",
       "1  {\"n_requests\": 1, \"n_successful_requests\": 1, ...   \n",
       "2  {\"n_requests\": 1, \"n_successful_requests\": 1, ...   \n",
       "3  {\"n_requests\": 1, \"n_successful_requests\": 1, ...   \n",
       "4  {\"n_requests\": 1, \"n_successful_requests\": 1, ...   \n",
       "\n",
       "                                           perf_json  \\\n",
       "0  {\"start_time\": \"2024-09-20T12:21:05.113983\", \"...   \n",
       "1  {\"start_time\": \"2024-09-20T12:21:06.787745\", \"...   \n",
       "2  {\"start_time\": \"2024-09-20T12:21:08.538854\", \"...   \n",
       "3  {\"start_time\": \"2024-09-20T12:21:10.032224\", \"...   \n",
       "4  {\"start_time\": \"2024-09-20T12:21:11.481890\", \"...   \n",
       "\n",
       "                           ts  latency  total_tokens  total_cost  \n",
       "0  2024-09-20T12:21:06.562362        1          2086    0.011140  \n",
       "1  2024-09-20T12:21:08.331561        1          1689    0.009105  \n",
       "2  2024-09-20T12:21:09.810494        1          1674    0.008880  \n",
       "3  2024-09-20T12:21:11.220913        1          1644    0.008670  \n",
       "4  2024-09-20T12:21:12.854815        1          1660    0.008920  "
      ]
     },
     "execution_count": 16,
     "metadata": {},
     "output_type": "execute_result"
    }
   ],
   "source": [
    "records.head()"
   ]
  },
  {
   "cell_type": "code",
   "execution_count": 17,
   "metadata": {},
   "outputs": [],
   "source": [
    "# launches on http://localhost:8501/\n",
    "# tru.run_dashboard()"
   ]
  },
  {
   "cell_type": "markdown",
   "metadata": {},
   "source": [
    "### Advanced RAG Pipeline\n",
    "\n",
    "\n",
    "1. Sentence Window Retrieval"
   ]
  },
  {
   "cell_type": "code",
   "execution_count": 18,
   "metadata": {},
   "outputs": [],
   "source": [
    "from llama_index.llms.azure_openai import AzureOpenAI\n",
    "\n",
    "# llm = OpenAI(model=\"gpt-3.5-turbo\", temperature=0.1)\n",
    "\n",
    "llm = AzureOpenAI(\n",
    "    model=\"gpt-4o-mini\",\n",
    "    api_key=os.getenv(\"AZURE_OPENAI_API_KEY\"),\n",
    "    azure_endpoint=os.getenv(\"AZURE_OPENAI_API_ENDPOINT\"),\n",
    "    api_version=os.getenv(\"AZURE_OPENAI_API_VERSION\"),\n",
    "    azure_deployment=\"gpt-4o-mini\",\n",
    "    temperature=0.1,\n",
    ")\n",
    "\n",
    "# from llama_index.llms.ollama import Ollama\n",
    "\n",
    "# llm = Ollama(model=\"llama3.1:latest\", request_timeout=300.0)"
   ]
  },
  {
   "cell_type": "code",
   "execution_count": 19,
   "metadata": {},
   "outputs": [],
   "source": [
    "from utils import build_sentence_window_index\n",
    "\n",
    "sentence_index = build_sentence_window_index(\n",
    "    document,\n",
    "    llm,\n",
    "    embed_model=\"local:BAAI/bge-small-en-v1.5\",\n",
    "    save_dir=\"sentence_index,\",\n",
    ")"
   ]
  },
  {
   "cell_type": "code",
   "execution_count": 20,
   "metadata": {},
   "outputs": [],
   "source": [
    "from utils import get_sentence_window_query_engine\n",
    "\n",
    "sentence_window_engine = get_sentence_window_query_engine(llm, sentence_index)"
   ]
  },
  {
   "cell_type": "code",
   "execution_count": 21,
   "metadata": {},
   "outputs": [
    {
     "name": "stdout",
     "output_type": "stream",
     "text": [
      "To get started on a personal project in AI, begin by selecting a topic that interests you. Start small; even simple projects can provide valuable learning experiences. For instance, you might train a neural network on a basic function to understand the fundamentals.\n",
      "\n",
      "As you work on your project, focus on building a portfolio that showcases your skill progression from simpler to more complex tasks. This will be beneficial for future job opportunities. Communication is crucial, so clearly articulate the value of your project to potential collaborators or mentors, which can help you gain support and constructive feedback.\n",
      "\n",
      "Additionally, consider collaborating with others to enhance your project and develop leadership skills, even if you’re not in a formal leadership role. This collaborative approach can also provide insights into practical challenges in AI.\n",
      "\n",
      "Lastly, keep learning throughout the process, as the field is constantly evolving. Engaging with a community can also provide support and resources as you embark on your AI journey.\n"
     ]
    }
   ],
   "source": [
    "window_response = sentence_window_engine.query(\n",
    "    \"how do I get started on a personal project in AI?\"\n",
    ")\n",
    "print(str(window_response))"
   ]
  },
  {
   "cell_type": "code",
   "execution_count": 22,
   "metadata": {},
   "outputs": [],
   "source": [
    "tru.reset_database()\n",
    "\n",
    "tru_recorder_sentence_window = get_prebuilt_trulens_recorder(\n",
    "    sentence_window_engine,\n",
    "    app_id=\"Sentence Window Query Engine\",\n",
    ")"
   ]
  },
  {
   "cell_type": "code",
   "execution_count": 23,
   "metadata": {},
   "outputs": [
    {
     "name": "stdout",
     "output_type": "stream",
     "text": [
      "What are the keys to building a career in AI?\n",
      "The keys to building a career in AI include:\n",
      "\n",
      "1. **Teamwork**: Collaborating effectively with others enhances project success and is crucial for career growth.\n",
      "   \n",
      "2. **Networking**: Building a community rather than just a personal network can provide support and opportunities.\n",
      "\n",
      "3. **Job Search**: Finding a job is an important step, but it should be viewed as part of a larger career journey.\n",
      "\n",
      "4. **Personal Discipline**: Developing good habits in various aspects of life, such as learning and self-care, contributes to long-term success.\n",
      "\n",
      "5. **Altruism**: Helping others along your career path can lead to better outcomes for yourself as well.\n",
      "How can teamwork contribute to success in AI?\n",
      "Teamwork enhances success in AI by fostering collaboration, allowing individuals to share diverse perspectives and skills. Working in teams enables members to influence and be influenced by one another, which is crucial for tackling large projects effectively. This collaborative environment can lead to innovative solutions and improved project outcomes, as team members can leverage each other's strengths and insights. Additionally, strong interpersonal and communication skills within a team can facilitate better understanding and coordination, ultimately driving the project toward success.\n",
      "What is the importance of networking in AI?\n",
      "Networking in AI is crucial for building a strong professional community that can provide support, advice, and opportunities. Rather than focusing solely on personal connections, cultivating a sense of community can lead to genuine friendships and collaborations. A robust network can be especially beneficial during challenging times, offering resources and insights that can help propel one's career forward. Engaging with others in the field fosters collaboration and enhances interpersonal skills, which are vital for success in AI.\n",
      "What are some good habits to develop for a successful career?\n",
      "Developing good habits in various areas can significantly contribute to a successful career. Focus on the following:\n",
      "\n",
      "1. **Healthy Lifestyle**: Prioritize good eating, regular exercise, and adequate sleep to maintain physical and mental well-being.\n",
      "\n",
      "2. **Continuous Learning**: Dedicate time to learning new skills and staying updated in your field, whether through reading, taking courses, or engaging with experts.\n",
      "\n",
      "3. **Personal Relationships**: Cultivate strong personal relationships that provide support and encouragement throughout your career journey.\n",
      "\n",
      "4. **Work Discipline**: Establish a routine that balances work and personal projects, ensuring consistent progress in your professional endeavors.\n",
      "\n",
      "5. **Self-Care**: Make time for self-care to recharge and maintain motivation, which is essential for long-term success.\n",
      "\n",
      "By integrating these habits into your daily life, you can create a solid foundation for a thriving career.\n",
      "How can altruism be beneficial in building a career?\n",
      "Altruism can be beneficial in building a career by fostering a supportive environment where individuals aim to lift others as they progress. This mindset not only enhances personal relationships but also creates a network of mutual assistance. Helping others can lead to stronger connections, increased collaboration, and opportunities for mentorship, all of which can contribute to better outcomes for oneself in the long run. By focusing on the success of others, individuals often find that their own career paths become more rewarding and fulfilling.\n",
      "What is imposter syndrome and how does it relate to AI?\n",
      "Imposter syndrome is a psychological phenomenon where individuals doubt their accomplishments and fear being exposed as a fraud, despite evidence of their competence. In the context of AI, it is common for newcomers, regardless of their success, to feel they do not truly belong in the community. This feeling can arise due to the technical complexity of AI and the presence of highly skilled individuals in the field. Many talented people, including well-known figures, have publicly shared their experiences with imposter syndrome, highlighting that it is a widespread issue even among accomplished professionals. Recognizing this can help foster a more inclusive environment where everyone feels welcome to learn and grow in AI.\n",
      "Who are some accomplished individuals who have experienced imposter syndrome?\n",
      "Some accomplished individuals who have experienced imposter syndrome include former Facebook COO Sheryl Sandberg, U.S. first lady Michelle Obama, actor Tom Hanks, and Atlassian co-CEO Mike Cannon-Brookes.\n",
      "What is the first step to becoming good at AI?\n",
      "The first step to becoming proficient in AI is to focus on learning foundational technical skills. This involves understanding key concepts and models in machine learning, as well as developing a solid grasp of deep learning and software development.\n",
      "What are some common challenges in AI?\n",
      "Common challenges in AI include understanding complex mathematical concepts, debugging implementations, and reading advanced research papers. Many individuals, regardless of their experience level, encounter difficulties with technical aspects, such as tuning hyperparameters or dealing with unexpected results in models. Additionally, newcomers may struggle with feelings of inadequacy or imposter syndrome, which can hinder their confidence and growth in the field.\n",
      "Is it normal to find parts of AI challenging?\n",
      "Yes, it is normal to find parts of AI challenging. Many individuals, regardless of their level of expertise, encounter difficulties while learning and working in the field. It's a common experience, and overcoming these challenges is part of the growth process in AI.\n",
      "What is the right AI job for me?\n",
      "Finding the right AI job involves a thoughtful approach. Start by identifying roles that align with your interests and skills. Conduct informational interviews to gain insights into different positions and the skills required. This will help you understand where you might need further learning or experience.\n",
      "\n",
      "Consider the importance of the team you'll be working with, as colleagues can significantly influence your work experience. If possible, seek to learn about potential teammates before accepting an offer, as a good fit can enhance your career satisfaction.\n",
      "\n",
      "Lastly, leverage your community for support. Friends and mentors can provide valuable advice and referrals, making your job search more effective. Taking small, incremental steps can help you navigate this process with confidence.\n"
     ]
    }
   ],
   "source": [
    "for question in eval_questions:\n",
    "    with tru_recorder_sentence_window as recording:\n",
    "        response = sentence_window_engine.query(question)\n",
    "        print(question)\n",
    "        print(str(response))"
   ]
  },
  {
   "cell_type": "code",
   "execution_count": 24,
   "metadata": {},
   "outputs": [
    {
     "data": {
      "text/html": [
       "<div>\n",
       "<style scoped>\n",
       "    .dataframe tbody tr th:only-of-type {\n",
       "        vertical-align: middle;\n",
       "    }\n",
       "\n",
       "    .dataframe tbody tr th {\n",
       "        vertical-align: top;\n",
       "    }\n",
       "\n",
       "    .dataframe thead th {\n",
       "        text-align: right;\n",
       "    }\n",
       "</style>\n",
       "<table border=\"1\" class=\"dataframe\">\n",
       "  <thead>\n",
       "    <tr style=\"text-align: right;\">\n",
       "      <th></th>\n",
       "      <th>latency</th>\n",
       "      <th>total_cost</th>\n",
       "    </tr>\n",
       "    <tr>\n",
       "      <th>app_id</th>\n",
       "      <th></th>\n",
       "      <th></th>\n",
       "    </tr>\n",
       "  </thead>\n",
       "  <tbody>\n",
       "    <tr>\n",
       "      <th>Sentence Window Query Engine</th>\n",
       "      <td>1.363636</td>\n",
       "      <td>0.000338</td>\n",
       "    </tr>\n",
       "  </tbody>\n",
       "</table>\n",
       "</div>"
      ],
      "text/plain": [
       "                               latency  total_cost\n",
       "app_id                                            \n",
       "Sentence Window Query Engine  1.363636    0.000338"
      ]
     },
     "execution_count": 24,
     "metadata": {},
     "output_type": "execute_result"
    }
   ],
   "source": [
    "tru.get_leaderboard(app_ids=[])"
   ]
  },
  {
   "cell_type": "code",
   "execution_count": 25,
   "metadata": {},
   "outputs": [],
   "source": [
    "# launches on http://localhost:8501/\n",
    "# tru.run_dashboard()"
   ]
  },
  {
   "cell_type": "markdown",
   "metadata": {},
   "source": [
    "### 2. Auto-Merging Retrieval"
   ]
  },
  {
   "cell_type": "code",
   "execution_count": 26,
   "metadata": {},
   "outputs": [],
   "source": [
    "from llama_index.llms.ollama import Ollama\n",
    "\n",
    "llm_ollama = Ollama(model=\"llama3.1:latest\", request_timeout=300.0)"
   ]
  },
  {
   "cell_type": "code",
   "execution_count": 27,
   "metadata": {},
   "outputs": [],
   "source": [
    "from utils import build_automerging_index\n",
    "\n",
    "automerging_index = build_automerging_index(\n",
    "    documents,\n",
    "    llm=llm_ollama,\n",
    "    embed_model=\"local:BAAI/bge-small-en-v1.5\",\n",
    "    save_dir=\"merging_index\",\n",
    ")"
   ]
  },
  {
   "cell_type": "code",
   "execution_count": 28,
   "metadata": {},
   "outputs": [],
   "source": [
    "from utils import get_automerging_query_engine\n",
    "\n",
    "automerging_query_engine = get_automerging_query_engine(\n",
    "    llm_ollama,\n",
    "    automerging_index,\n",
    ")"
   ]
  },
  {
   "cell_type": "code",
   "execution_count": 29,
   "metadata": {},
   "outputs": [
    {
     "name": "stdout",
     "output_type": "stream",
     "text": [
      "> Merging 1 nodes into parent node.\n",
      "> Parent node id: 9af6dfc7-1551-4013-a761-321245a299bb.\n",
      "> Parent node text: PAGE 21Building a Portfolio of \n",
      "Projects that Shows \n",
      "Skill Progression CHAPTER 6\n",
      "PROJECTS\n",
      "\n",
      "> Merging 1 nodes into parent node.\n",
      "> Parent node id: 82b7eaea-510d-4e9c-865c-4378103ce6f8.\n",
      "> Parent node text: PAGE 21Building a Portfolio of \n",
      "Projects that Shows \n",
      "Skill Progression CHAPTER 6\n",
      "PROJECTS\n",
      "\n",
      "Building a portfolio of projects that showcases progress over time will be a big help when looking for a job. To start, focus on simple undertakings and gradually move to more complex ones. This will demonstrate your ability to grow and take on new challenges. Additionally, being able to effectively communicate the value behind your work is crucial in showcasing your skills to potential employers.\n"
     ]
    }
   ],
   "source": [
    "auto_merging_response = automerging_query_engine.query(\n",
    "    \"How do I build a portfolio of AI projects?\"\n",
    ")\n",
    "print(str(auto_merging_response))"
   ]
  },
  {
   "cell_type": "code",
   "execution_count": 30,
   "metadata": {},
   "outputs": [],
   "source": [
    "tru.reset_database()\n",
    "\n",
    "tru_recorder_automerging = get_prebuilt_trulens_recorder(\n",
    "    automerging_query_engine, app_id=\"Automerging Query Engine\"\n",
    ")"
   ]
  },
  {
   "cell_type": "code",
   "execution_count": null,
   "metadata": {},
   "outputs": [],
   "source": []
  }
 ],
 "metadata": {
  "kernelspec": {
   "display_name": "building-evaluating-rag-FHE83O05-py3.11",
   "language": "python",
   "name": "python3"
  },
  "language_info": {
   "codemirror_mode": {
    "name": "ipython",
    "version": 3
   },
   "file_extension": ".py",
   "mimetype": "text/x-python",
   "name": "python",
   "nbconvert_exporter": "python",
   "pygments_lexer": "ipython3",
   "version": "3.11.9"
  }
 },
 "nbformat": 4,
 "nbformat_minor": 2
}
